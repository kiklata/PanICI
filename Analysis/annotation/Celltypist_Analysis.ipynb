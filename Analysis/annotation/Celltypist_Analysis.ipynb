{
 "cells": [
  {
   "cell_type": "code",
   "execution_count": 1,
   "metadata": {},
   "outputs": [],
   "source": [
    "import celltypist\n",
    "from celltypist import models\n",
    "import scanpy"
   ]
  },
  {
   "cell_type": "code",
   "execution_count": 5,
   "metadata": {},
   "outputs": [],
   "source": [
    "inputfile = '/home/shpc_100839/ALL.info.hgnc.h5ad'"
   ]
  },
  {
   "cell_type": "code",
   "execution_count": 6,
   "metadata": {},
   "outputs": [],
   "source": [
    "adata = scanpy.read_h5ad(inputfile)"
   ]
  },
  {
   "cell_type": "code",
   "execution_count": 8,
   "metadata": {},
   "outputs": [],
   "source": [
    "scanpy.pp.normalize_total(adata, target_sum=1e4)\n",
    "scanpy.pp.log1p(adata)"
   ]
  },
  {
   "cell_type": "code",
   "execution_count": 15,
   "metadata": {},
   "outputs": [
    {
     "name": "stderr",
     "output_type": "stream",
     "text": [
      "🔬 Input data has 237124 cells and 29884 genes\n",
      "🔗 Matching reference genes in the model\n",
      "🧬 5713 features used for prediction\n",
      "⚖️ Scaling input data\n",
      "🖋️ Predicting labels\n",
      "✅ Prediction done!\n"
     ]
    }
   ],
   "source": [
    "\n",
    "predictions = celltypist.annotate(adata, model = 'Immune_All_Low.pkl',transpose_input = True)\n",
    "predictions.to_table(folder = '/home/shpc_100839/', prefix = 'ALL')\n"
   ]
  },
  {
   "cell_type": "code",
   "execution_count": 3,
   "metadata": {},
   "outputs": [
    {
     "data": {
      "text/plain": [
       "array(['Age-associated B cells', 'Alveolar macrophages', 'B cells',\n",
       "       'CD16+ NK cells', 'CD16- NK cells', 'CD8a/a', 'CD8a/b(entry)',\n",
       "       'CMP', 'CRTAM+ gamma-delta T cells', 'Classical monocytes',\n",
       "       'Cycling B cells', 'Cycling DCs', 'Cycling NK cells',\n",
       "       'Cycling T cells', 'Cycling gamma-delta T cells',\n",
       "       'Cycling monocytes', 'DC', 'DC precursor', 'DC1', 'DC2', 'DC3',\n",
       "       'Double-negative thymocytes', 'Double-positive thymocytes', 'ELP',\n",
       "       'ETP', 'Early MK', 'Early erythroid', 'Early lymphoid/T lymphoid',\n",
       "       'Endothelial cells', 'Epithelial cells', 'Erythrocytes',\n",
       "       'Erythrophagocytic macrophages', 'Fibroblasts',\n",
       "       'Follicular B cells', 'Follicular helper T cells', 'GMP',\n",
       "       'Germinal center B cells', 'Granulocytes', 'HSC/MPP',\n",
       "       'Hofbauer cells', 'ILC', 'ILC precursor', 'ILC1', 'ILC2', 'ILC3',\n",
       "       'Intermediate macrophages', 'Intestinal macrophages',\n",
       "       'Kidney-resident macrophages', 'Kupffer cells',\n",
       "       'Large pre-B cells', 'Late erythroid', 'MAIT cells', 'MEMP', 'MNP',\n",
       "       'Macrophages', 'Mast cells', 'Megakaryocyte precursor',\n",
       "       'Megakaryocyte-erythroid-mast cell progenitor',\n",
       "       'Megakaryocytes/platelets', 'Memory B cells',\n",
       "       'Memory CD4+ cytotoxic T cells', 'Mid erythroid', 'Migratory DCs',\n",
       "       'Mono-mac', 'Monocyte precursor', 'Monocytes', 'Myelocytes',\n",
       "       'NK cells', 'NKT cells', 'Naive B cells',\n",
       "       'Neutrophil-myeloid progenitor', 'Neutrophils',\n",
       "       'Non-classical monocytes', 'Plasma cells', 'Plasmablasts',\n",
       "       'Pre-pro-B cells', 'Pro-B cells',\n",
       "       'Proliferative germinal center B cells', 'Promyelocytes',\n",
       "       'Regulatory T cells', 'Small pre-B cells', 'T(agonist)',\n",
       "       'Tcm/Naive cytotoxic T cells', 'Tcm/Naive helper T cells',\n",
       "       'Tem/Effector helper T cells', 'Tem/Effector helper T cells PD1+',\n",
       "       'Tem/Temra cytotoxic T cells', 'Tem/Trm cytotoxic T cells',\n",
       "       'Transitional B cells', 'Transitional DC', 'Transitional NK',\n",
       "       'Treg(diff)', 'Trm cytotoxic T cells', 'Type 1 helper T cells',\n",
       "       'Type 17 helper T cells', 'gamma-delta T cells', 'pDC',\n",
       "       'pDC precursor'], dtype=object)"
      ]
     },
     "execution_count": 3,
     "metadata": {},
     "output_type": "execute_result"
    }
   ],
   "source": [
    "model = models.Model.load(model = 'Immune_All_Low.pkl')\n",
    "#Examine cell types contained in the model.\n",
    "model.cell_types"
   ]
  }
 ],
 "metadata": {
  "kernelspec": {
   "display_name": "Python 3.10.5 ('scanpy': conda)",
   "language": "python",
   "name": "python3"
  },
  "language_info": {
   "codemirror_mode": {
    "name": "ipython",
    "version": 3
   },
   "file_extension": ".py",
   "mimetype": "text/x-python",
   "name": "python",
   "nbconvert_exporter": "python",
   "pygments_lexer": "ipython3",
   "version": "3.10.5"
  },
  "orig_nbformat": 4,
  "vscode": {
   "interpreter": {
    "hash": "ca35b4f9e9150ce5209de77a8d20ebbb2081bfa682cde99d87c6104166b0bddc"
   }
  }
 },
 "nbformat": 4,
 "nbformat_minor": 2
}
